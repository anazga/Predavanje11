{
 "cells": [
  {
   "cell_type": "markdown",
   "metadata": {},
   "source": [
    "# Numerička matematika - 11. predavanje"
   ]
  },
  {
   "cell_type": "markdown",
   "metadata": {},
   "source": [
    "## 1. QR i SVD dekompozicija matrice\n"
   ]
  },
  {
   "cell_type": "markdown",
   "metadata": {},
   "source": [
    "U dijelu predavanja pokazat ćemo kako možemo primijeniti $QR$ i $SVD$ faktorizaciju matrice u rješavanju problema najmanjih  kvadrata.\n",
    "\n",
    "\n"
   ]
  },
  {
   "cell_type": "code",
   "execution_count": 1,
   "metadata": {
    "scrolled": false
   },
   "outputs": [
    {
     "data": {
      "text/html": [
       "\n",
       "        <iframe\n",
       "            width=\"400\"\n",
       "            height=\"300\"\n",
       "            src=\"https://www.youtube.com/embed/pPZ72HLnQUU\"\n",
       "            frameborder=\"0\"\n",
       "            allowfullscreen\n",
       "        ></iframe>\n",
       "        "
      ],
      "text/plain": [
       "<IPython.lib.display.YouTubeVideo at 0x1fa46705fd0>"
      ]
     },
     "metadata": {},
     "output_type": "display_data"
    }
   ],
   "source": [
    "from IPython.lib.display import YouTubeVideo\n",
    "vid = YouTubeVideo(\"pPZ72HLnQUU\")\n",
    "display(vid)"
   ]
  },
  {
   "cell_type": "markdown",
   "metadata": {},
   "source": [
    "**Zadatak** Zadana je matrica \n",
    "$$A=\\begin{bmatrix}1& -1\\\\ 1& 1\\\\ 0&0\\end{bmatrix}\\in \\mathbb[R]^{3\\times 2}$$ te njema $QR$ faktorizacija\n",
    "$$A=Q\\begin{bmatrix}R\\\\0\\end{bmatrix}=\\begin{bmatrix} 0& -1 & 0\\\\\n",
    "1& 0& 0\\\\ 0& 0& 1\\end{bmatrix}\\begin{bmatrix}1& 1\\\\ 0& 2\\\\ 0& 0\\end{bmatrix}.$$\n",
    "Koristeći $QR$ faktorizaciju riješite problem najmanjih kvadrata\n",
    "$$\\|Ax-b\\|_2\\rightarrow \\min$$\n",
    "ako je}\n",
    "$$b=\\begin{bmatrix}-2\\\\ 4\\\\ 1\\end{bmatrix}.$$\n",
    "\n",
    "\n",
    "*Rješenje* \n",
    "Računamo $$d=Q^Tb=\\begin{bmatrix} 4\\\\ 2\\\\ 1\\end{bmatrix}$$\n",
    "Sada imamo\n",
    "$$d_1=\\begin{bmatrix} 4\\\\ 2\\end{bmatrix}\\quad d_2=[1].$$\n",
    "Nakon toga rješavamo sustav\n",
    "$$Rx=d_1$$\n",
    "odnosno\n",
    "$$\\begin{bmatrix}1& 1\\\\\n",
    "0& 2\\end{bmatrix}\\begin{bmatrix}x_1\\\\x_2\\end{bmatrix}=\\begin{bmatrix}4\\\\ 2\\end{bmatrix}.$$\n",
    "Odakle dobivamo\n",
    "$$x=\\begin{bmatrix}3\\\\ 1\\end{bmatrix}$$\n",
    "i dobivamo da je\n",
    "$$\\|b-Ax_{min}\\|_2=\\|d_2\\|_2=1.$$"
   ]
  },
  {
   "cell_type": "markdown",
   "metadata": {},
   "source": [
    "## 2. Numeričko rješavanje nelinearnih jednadžbi\n"
   ]
  },
  {
   "cell_type": "markdown",
   "metadata": {},
   "source": [
    "U ovom dijelu predavanja bavimo numeričkim rješavanjem nelinearnih jednadćbi, točnije metodom jednostavnih itracija."
   ]
  },
  {
   "cell_type": "code",
   "execution_count": 2,
   "metadata": {
    "scrolled": true
   },
   "outputs": [
    {
     "data": {
      "text/html": [
       "\n",
       "        <iframe\n",
       "            width=\"400\"\n",
       "            height=\"300\"\n",
       "            src=\"https://www.youtube.com/embed/eFtmjHAZgJU\"\n",
       "            frameborder=\"0\"\n",
       "            allowfullscreen\n",
       "        ></iframe>\n",
       "        "
      ],
      "text/plain": [
       "<IPython.lib.display.YouTubeVideo at 0x1fa4770bdd8>"
      ]
     },
     "metadata": {},
     "output_type": "display_data"
    }
   ],
   "source": [
    "from IPython.lib.display import YouTubeVideo\n",
    "vid = YouTubeVideo(\"eFtmjHAZgJU\") \n",
    "display(vid)"
   ]
  },
  {
   "cell_type": "markdown",
   "metadata": {},
   "source": [
    "**Napomena** U gornjoj prezentaciji smo na primjeru nelinearne jednadžbe $x^2-a=0$ pokazali da metoda\n",
    "$$x_{n+1}=\\frac{1}{2}\\left(x_n+\\frac{a}{x_n}\\right), x_0 \\ zadan$$\n",
    "konvergira i da je konvergencija kvardatična na dva načina.\n",
    "\n",
    "Prvi način (slajd 19) je bio koristeći Teorem o dovoljim uvjetima za konvergenciju pomoću funkcije $\\varphi(x)$ zajedno sa provjerom rezultata Leme koju smo vidjeli na prezentaciji.\n",
    "\n",
    "Drugi način (slajd 21) je bio pomoću primjene znanja iz Matematike 1 i korisne jednakosti\n",
    "$$x_{n+1}-\\sqrt{a}=\\frac{(x_n-\\sqrt{a})^2}{2x_n}.$$\n",
    "\n",
    "\n"
   ]
  }
 ],
 "metadata": {
  "kernelspec": {
   "display_name": "Python 3",
   "language": "python",
   "name": "python3"
  },
  "language_info": {
   "codemirror_mode": {
    "name": "ipython",
    "version": 3
   },
   "file_extension": ".py",
   "mimetype": "text/x-python",
   "name": "python",
   "nbconvert_exporter": "python",
   "pygments_lexer": "ipython3",
   "version": "3.6.4"
  }
 },
 "nbformat": 4,
 "nbformat_minor": 2
}
