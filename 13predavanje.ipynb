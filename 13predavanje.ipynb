{
 "cells": [
  {
   "cell_type": "markdown",
   "metadata": {},
   "source": [
    "# Numerička integracija (nastavak)\n",
    "\n"
   ]
  },
  {
   "cell_type": "markdown",
   "metadata": {},
   "source": [
    "U prethodnom je predavanju postavljen video s rješenjima zadataka. Pogledajte ga!\n",
    "\n",
    "U sljedećem dijelu ćemo pokušati kompozitnu trapeznu formulu zapisati rekurzivno, kako bismo imali pšto manje izvrjednjavanja funkcije kod povećanja broja točaka!"
   ]
  },
  {
   "cell_type": "code",
   "execution_count": 25,
   "metadata": {
    "scrolled": true
   },
   "outputs": [
    {
     "data": {
      "text/html": [
       "\n",
       "        <iframe\n",
       "            width=\"400\"\n",
       "            height=\"300\"\n",
       "            src=\"https://www.youtube.com/embed/n5JAROOhSJA\"\n",
       "            frameborder=\"0\"\n",
       "            allowfullscreen\n",
       "        ></iframe>\n",
       "        "
      ],
      "text/plain": [
       "<IPython.lib.display.YouTubeVideo at 0x159fcfd3ba8>"
      ]
     },
     "metadata": {},
     "output_type": "display_data"
    }
   ],
   "source": [
    "from IPython.lib.display import YouTubeVideo\n",
    "vid = YouTubeVideo(\"n5JAROOhSJA\")\n",
    "display(vid)"
   ]
  },
  {
   "cell_type": "markdown",
   "metadata": {},
   "source": [
    "Slijedi usporedba sa vrijednošću koju dobijemo korištenjem ugrađene funkcije iz scipy biblioteke"
   ]
  },
  {
   "cell_type": "code",
   "execution_count": 11,
   "metadata": {},
   "outputs": [
    {
     "name": "stdout",
     "output_type": "stream",
     "text": [
      "AProksimacija= 1.9742316019455508\n"
     ]
    }
   ],
   "source": [
    "def trapez(f,a,b,N=16):\n",
    "    x = np.linspace(a,b,N+1) \n",
    "    #print(x)\n",
    "    y = f(x)\n",
    "    y_right = y[1:] # lijevi rub intervala\n",
    "    y_left = y[:-1] # desni rub intervala\n",
    "    h = (b - a)/N\n",
    "    Tn = np.sum(h*(y_right + y_left)/2)\n",
    "    return Tn\n",
    "\n",
    "import numpy as np\n",
    "from numpy import exp\n",
    "from numpy import cos\n",
    "from numpy import pi\n",
    "from numpy import sin\n",
    "\n",
    "#trapez(lambda x : x*exp(-x)*cos(2*x),0,2*pi,5)\n",
    "\n",
    "approx1=trapez(lambda x : sin(x),0, pi,8)\n",
    "print(\"Aproksimacija-implementacija=\", approx1)"
   ]
  },
  {
   "cell_type": "code",
   "execution_count": 23,
   "metadata": {},
   "outputs": [
    {
     "name": "stdout",
     "output_type": "stream",
     "text": [
      "Value  from scipy(trapezoid): 1.9742316019455508\n"
     ]
    }
   ],
   "source": [
    "from scipy import integrate\n",
    "x = np.linspace(0,pi,9)\n",
    "y=sin(x)\n",
    "print(\"Value  from scipy(trapezoid):\", integrate.trapz(y, x))"
   ]
  },
  {
   "cell_type": "markdown",
   "metadata": {},
   "source": [
    "U sljedećem kodu implementira se rekurzivno trapezno pravilo i rješavamo primjer koji je riješen u video predavanjima"
   ]
  },
  {
   "cell_type": "code",
   "execution_count": 18,
   "metadata": {},
   "outputs": [
    {
     "name": "stdout",
     "output_type": "stream",
     "text": [
      "Aproksimacija za k=5: 1.9935703437723393\n",
      "Aproksimacija za k=6: 1.998393360970144\n",
      "Aproksimacija za k=7: 1.9995983886400366\n"
     ]
    }
   ],
   "source": [
    "#funkcija koja računa vrojednost integrala I_k sa brojem intervala 2^{k-1} iz vrijednosti integrala I_{k-1}\n",
    "\n",
    "\n",
    "def trap_rec(f,a,b, I0, k):\n",
    "    if k==1:\n",
    "        I1=(f(a)+f(b))*(b-a)/2.0\n",
    "    else:\n",
    "        n=2**(k-2)\n",
    "        h=(b-a)/n\n",
    "        x=a+h/2.0\n",
    "        new_points_sum=0.0\n",
    "        for j in range(n):\n",
    "            new_points_sum=new_points_sum+f(x)\n",
    "            x=x+h\n",
    "        I1=(I0+h*new_points_sum)/2.0\n",
    "    return I1\n",
    "# Primjer s video predavanja\n",
    "\n",
    "approx2=trap_rec(lambda x : sin(x),0, pi,approx1,5)\n",
    "print(\"Aproksimacija za k=5:\", approx2)\n",
    "\n",
    "approx3=trap_rec(lambda x : sin(x),0, pi,approx2,6)\n",
    "print(\"Aproksimacija za k=6:\", approx3)    \n",
    "\n",
    "approx4=trap_rec(lambda x : sin(x),0, pi,approx3,7)\n",
    "print(\"Aproksimacija za k=7:\", approx4)    \n",
    "    "
   ]
  },
  {
   "cell_type": "markdown",
   "metadata": {},
   "source": [
    "D.Z. implementirati funkciju koja računa rekurzivnim trapeznim pravilo vrijednost integrala do na zadanu točnost (pod time se podrazumijeva da je $|Ik-I_{k-1}|<\\varepsilon$ gdje je $\\varepsilon$ unaprijed dana točnost. Ako se ne može postići navedeno, ispisati poruku da postupak ne može dati takvu točnost)"
   ]
  },
  {
   "cell_type": "markdown",
   "metadata": {},
   "source": [
    " # Richardsonova ekstrapolacija\n",
    " \n",
    " Richardsonova ekstrapolacija općenit je postupak poboljšavanja točnosti aproksimacijskih formula. U sljedećem videu bit će objašnjen općenit postupak i primjena na numeričko deriviranje"
   ]
  },
  {
   "cell_type": "code",
   "execution_count": 26,
   "metadata": {
    "scrolled": true
   },
   "outputs": [
    {
     "data": {
      "text/html": [
       "\n",
       "        <iframe\n",
       "            width=\"400\"\n",
       "            height=\"300\"\n",
       "            src=\"https://www.youtube.com/embed/y2GeEeY54EY\"\n",
       "            frameborder=\"0\"\n",
       "            allowfullscreen\n",
       "        ></iframe>\n",
       "        "
      ],
      "text/plain": [
       "<IPython.lib.display.YouTubeVideo at 0x159fd3caef0>"
      ]
     },
     "metadata": {},
     "output_type": "display_data"
    }
   ],
   "source": [
    "vid = YouTubeVideo(\"y2GeEeY54EY\")\n",
    "display(vid)"
   ]
  },
  {
   "cell_type": "markdown",
   "metadata": {},
   "source": [
    "# Rombergov algoritam"
   ]
  },
  {
   "cell_type": "markdown",
   "metadata": {},
   "source": [
    "Sada ćemo primijeniti richardsonovu ekstrapolaciju kako bismo poboljšali točnost kompozitnog trapeznog pravila. Takav postupak nazivamo Rombergov algoritam."
   ]
  },
  {
   "cell_type": "code",
   "execution_count": 27,
   "metadata": {},
   "outputs": [
    {
     "data": {
      "text/html": [
       "\n",
       "        <iframe\n",
       "            width=\"400\"\n",
       "            height=\"300\"\n",
       "            src=\"https://www.youtube.com/embed/r0B5vZopCKw\"\n",
       "            frameborder=\"0\"\n",
       "            allowfullscreen\n",
       "        ></iframe>\n",
       "        "
      ],
      "text/plain": [
       "<IPython.lib.display.YouTubeVideo at 0x159fd500940>"
      ]
     },
     "metadata": {},
     "output_type": "display_data"
    }
   ],
   "source": [
    "vid = YouTubeVideo(\"r0B5vZopCKw\")\n",
    "display(vid)"
   ]
  },
  {
   "cell_type": "markdown",
   "metadata": {},
   "source": [
    "Za dz. razmisliti o implementaciji Rombergovog algoritma, ali može se koristiti i već ugrađena funkcija"
   ]
  },
  {
   "cell_type": "code",
   "execution_count": 21,
   "metadata": {},
   "outputs": [
    {
     "name": "stdout",
     "output_type": "stream",
     "text": [
      "Romberg integration of <function vectorize1.<locals>.vfunc at 0x00000159FCFC56A8> from [0, 3.141592653589793]\n",
      "\n",
      " Steps  StepSize   Results\n",
      "     1  3.141593  0.000000 \n",
      "     2  1.570796  1.570796  2.094395 \n",
      "     4  0.785398  1.896119  2.004560  1.998571 \n",
      "     8  0.392699  1.974232  2.000269  1.999983  2.000006 \n",
      "    16  0.196350  1.993570  2.000017  2.000000  2.000000  2.000000 \n",
      "    32  0.098175  1.998393  2.000001  2.000000  2.000000  2.000000  2.000000 \n",
      "\n",
      "The final result is 2.000000000001321 after 33 function evaluations.\n"
     ]
    }
   ],
   "source": [
    "from scipy import integrate\n",
    "\n",
    "result = integrate.romberg(sin, 0, pi, show=True)"
   ]
  },
  {
   "cell_type": "code",
   "execution_count": null,
   "metadata": {},
   "outputs": [],
   "source": []
  }
 ],
 "metadata": {
  "kernelspec": {
   "display_name": "Python 3",
   "language": "python",
   "name": "python3"
  },
  "language_info": {
   "codemirror_mode": {
    "name": "ipython",
    "version": 3
   },
   "file_extension": ".py",
   "mimetype": "text/x-python",
   "name": "python",
   "nbconvert_exporter": "python",
   "pygments_lexer": "ipython3",
   "version": "3.6.4"
  }
 },
 "nbformat": 4,
 "nbformat_minor": 2
}
